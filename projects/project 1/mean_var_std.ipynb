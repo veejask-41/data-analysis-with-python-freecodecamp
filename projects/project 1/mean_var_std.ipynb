{
  "nbformat": 4,
  "nbformat_minor": 0,
  "metadata": {
    "colab": {
      "provenance": []
    },
    "kernelspec": {
      "name": "python3",
      "display_name": "Python 3"
    },
    "language_info": {
      "name": "python"
    }
  },
  "cells": [
    {
      "cell_type": "code",
      "execution_count": 5,
      "metadata": {
        "id": "JU652JSK-0rp"
      },
      "outputs": [],
      "source": [
        "import numpy as np"
      ]
    },
    {
      "cell_type": "code",
      "source": [
        "input = [0,1,2,3,4,5,6,7,8]"
      ],
      "metadata": {
        "id": "UA9PoQph_Bbw"
      },
      "execution_count": 6,
      "outputs": []
    },
    {
      "cell_type": "code",
      "source": [
        "arr = np.array(input)\n",
        "arr"
      ],
      "metadata": {
        "colab": {
          "base_uri": "https://localhost:8080/"
        },
        "id": "p7dvBXiL_KS2",
        "outputId": "c09a1f11-45d5-4c72-a20e-8b9d83772fde"
      },
      "execution_count": 8,
      "outputs": [
        {
          "output_type": "execute_result",
          "data": {
            "text/plain": [
              "array([0, 1, 2, 3, 4, 5, 6, 7, 8])"
            ]
          },
          "metadata": {},
          "execution_count": 8
        }
      ]
    },
    {
      "cell_type": "code",
      "source": [
        "arr = arr.reshape(3,3)\n",
        "arr"
      ],
      "metadata": {
        "colab": {
          "base_uri": "https://localhost:8080/"
        },
        "id": "PGWy4tWZ_rkg",
        "outputId": "47460107-b30d-4bb1-c7e9-e8364061c252"
      },
      "execution_count": 10,
      "outputs": [
        {
          "output_type": "execute_result",
          "data": {
            "text/plain": [
              "array([[0, 1, 2],\n",
              "       [3, 4, 5],\n",
              "       [6, 7, 8]])"
            ]
          },
          "metadata": {},
          "execution_count": 10
        }
      ]
    },
    {
      "cell_type": "code",
      "source": [
        "mean = []\n",
        "mean.append(list(arr.mean(axis = 0)))\n",
        "mean.append(list(arr.mean(axis = 1)))\n",
        "mean.append(arr.mean())\n",
        "mean"
      ],
      "metadata": {
        "colab": {
          "base_uri": "https://localhost:8080/"
        },
        "id": "dYcFXIMDATP1",
        "outputId": "8faf8180-2141-47e3-8cb2-730c2ce256ef"
      },
      "execution_count": 37,
      "outputs": [
        {
          "output_type": "execute_result",
          "data": {
            "text/plain": [
              "[[3.0, 4.0, 5.0], [1.0, 4.0, 7.0], 4.0]"
            ]
          },
          "metadata": {},
          "execution_count": 37
        }
      ]
    },
    {
      "cell_type": "code",
      "source": [
        "var = []\n",
        "var.append(list(arr.var(axis = 0)))\n",
        "var.append(list(arr.var(axis = 1)))\n",
        "var.append(arr.var())\n",
        "var"
      ],
      "metadata": {
        "colab": {
          "base_uri": "https://localhost:8080/"
        },
        "id": "OTnTIzNvBv4D",
        "outputId": "0b4a7d91-4e53-42d5-bd9a-b52cddf9c4f2"
      },
      "execution_count": 29,
      "outputs": [
        {
          "output_type": "execute_result",
          "data": {
            "text/plain": [
              "[[6.0, 6.0, 6.0],\n",
              " [0.6666666666666666, 0.6666666666666666, 0.6666666666666666],\n",
              " 6.666666666666667]"
            ]
          },
          "metadata": {},
          "execution_count": 29
        }
      ]
    },
    {
      "cell_type": "code",
      "source": [
        "std = []\n",
        "std.append(list(arr.std(axis = 0)))\n",
        "std.append(list(arr.std(axis = 1)))\n",
        "std.append(arr.std())\n",
        "std"
      ],
      "metadata": {
        "colab": {
          "base_uri": "https://localhost:8080/"
        },
        "id": "IXnLFoNkB_Cx",
        "outputId": "4411a06a-bedc-4a23-a7ab-1feb73edf231"
      },
      "execution_count": 31,
      "outputs": [
        {
          "output_type": "execute_result",
          "data": {
            "text/plain": [
              "[[2.449489742783178, 2.449489742783178, 2.449489742783178],\n",
              " [0.816496580927726, 0.816496580927726, 0.816496580927726],\n",
              " 2.581988897471611]"
            ]
          },
          "metadata": {},
          "execution_count": 31
        }
      ]
    },
    {
      "cell_type": "code",
      "source": [
        "max = []\n",
        "max.append(list(arr.max(axis = 0)))\n",
        "max.append(list(arr.max(axis = 1)))\n",
        "max.append(arr.max())\n",
        "max"
      ],
      "metadata": {
        "colab": {
          "base_uri": "https://localhost:8080/"
        },
        "id": "2_tGBM_ZCNwB",
        "outputId": "e96eacdd-36f1-4a39-a4ed-26427735ab6c"
      },
      "execution_count": 33,
      "outputs": [
        {
          "output_type": "execute_result",
          "data": {
            "text/plain": [
              "[[6, 7, 8], [2, 5, 8], 8]"
            ]
          },
          "metadata": {},
          "execution_count": 33
        }
      ]
    },
    {
      "cell_type": "code",
      "source": [
        "min = []\n",
        "min.append(list(arr.min(axis = 0)))\n",
        "min.append(list(arr.min(axis = 1)))\n",
        "min.append(arr.min())\n",
        "min"
      ],
      "metadata": {
        "colab": {
          "base_uri": "https://localhost:8080/"
        },
        "id": "4qsQaSHsCFmA",
        "outputId": "d0f6a5bf-cab5-42b5-8f32-f6f5525a3f4a"
      },
      "execution_count": 32,
      "outputs": [
        {
          "output_type": "execute_result",
          "data": {
            "text/plain": [
              "[[0, 1, 2], [0, 3, 6], 0]"
            ]
          },
          "metadata": {},
          "execution_count": 32
        }
      ]
    },
    {
      "cell_type": "code",
      "source": [
        "sum = []\n",
        "sum.append(list(arr.sum(axis = 0)))\n",
        "sum.append(list(arr.sum(axis = 1)))\n",
        "sum.append(arr.sum())\n",
        "sum"
      ],
      "metadata": {
        "colab": {
          "base_uri": "https://localhost:8080/"
        },
        "id": "dO4S6sf8CT13",
        "outputId": "bd69a44d-e3b2-4fa6-da50-a114e39515b2"
      },
      "execution_count": 34,
      "outputs": [
        {
          "output_type": "execute_result",
          "data": {
            "text/plain": [
              "[[9, 12, 15], [3, 12, 21], 36]"
            ]
          },
          "metadata": {},
          "execution_count": 34
        }
      ]
    },
    {
      "cell_type": "code",
      "source": [
        "output = {'mean':mean,\n",
        "          'variance':var,\n",
        "          'standard deviation':std,\n",
        "          'max':max,\n",
        "          'min':min,\n",
        "          'sum':sum}\n",
        "\n",
        "output"
      ],
      "metadata": {
        "colab": {
          "base_uri": "https://localhost:8080/"
        },
        "id": "gTo9KFjzCX_d",
        "outputId": "7d24ace8-d857-49db-9a76-8004e1d86e11"
      },
      "execution_count": 35,
      "outputs": [
        {
          "output_type": "execute_result",
          "data": {
            "text/plain": [
              "{'mean': [[3.0, 4.0, 5.0], [1.0, 4.0, 7.0], 4.0],\n",
              " 'variance': [[6.0, 6.0, 6.0],\n",
              "  [0.6666666666666666, 0.6666666666666666, 0.6666666666666666],\n",
              "  6.666666666666667],\n",
              " 'standard deviation': [[2.449489742783178,\n",
              "   2.449489742783178,\n",
              "   2.449489742783178],\n",
              "  [0.816496580927726, 0.816496580927726, 0.816496580927726],\n",
              "  2.581988897471611],\n",
              " 'max': [[6, 7, 8], [2, 5, 8], 8],\n",
              " 'min': [[0, 1, 2], [0, 3, 6], 0],\n",
              " 'sum': [[9, 12, 15], [3, 12, 21], 36]}"
            ]
          },
          "metadata": {},
          "execution_count": 35
        }
      ]
    }
  ]
}